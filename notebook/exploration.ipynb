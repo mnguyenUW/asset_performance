{
 "cells": [
  {
   "cell_type": "markdown",
   "metadata": {},
   "source": [
    "# Air Filter Restriction Analysis\n",
    "# Baseline Modeling and Clog Detection System\n",
    "\n",
    "**PRESENTATION OVERVIEW:**\n",
    "This notebook demonstrates a data-driven approach to monitoring air filter health in industrial equipment by analyzing the relationship between horsepower demand and air filter restriction.\n",
    "\n",
    "**KEY TALKING POINTS:**\n",
    "- Air filters naturally show higher restriction at higher horsepower loads\n",
    "- When filters become clogged, restriction increases beyond normal levels\n",
    "- This limits maximum achievable horsepower before engine de-rating occurs\n",
    "- Our goal: quantify filter health as \"percent clogged\" to enable predictive maintenance"
   ]
  },
  {
   "cell_type": "markdown",
   "metadata": {},
   "source": [
    "## Section 1: Environment Setup"
   ]
  },
  {
   "cell_type": "code",
   "execution_count": null,
   "metadata": {},
   "outputs": [],
   "source": [
    "import pandas as pd\n",
    "import numpy as np\n",
    "import matplotlib.pyplot as plt\n",
    "import seaborn as sns\n",
    "from scipy import stats\n",
    "import warnings\n",
    "warnings.filterwarnings('ignore')\n",
    "\n",
    "# Set professional styling\n",
    "plt.style.use('seaborn-v0_8-darkgrid')\n",
    "sns.set_palette(\"husl\")\n",
    "plt.rcParams['figure.figsize'] = (12, 6)\n",
    "plt.rcParams['font.size'] = 11\n",
    "plt.rcParams['axes.labelsize'] = 12\n",
    "plt.rcParams['axes.titlesize'] = 14\n",
    "plt.rcParams['xtick.labelsize'] = 10\n",
    "plt.rcParams['ytick.labelsize'] = 10\n",
    "plt.rcParams['legend.fontsize'] = 10\n",
    "\n",
    "print(\"✓ Environment configured successfully\")"
   ]
  },
  {
   "cell_type": "markdown",
   "metadata": {},
   "source": [
    "## Section 2: Data Loading\n",
    "\n",
    "**TALKING POINTS:**\n",
    "- We have two key datasets for this analysis\n",
    "- Historical operational data: timestamps, horsepower, and restriction measurements\n",
    "- Asset specifications: maximum allowable limits per asset type"
   ]
  },
  {
   "cell_type": "code",
   "execution_count": null,
   "metadata": {},
   "outputs": [],
   "source": [
    "# Load datasets\n",
    "air_filter_df = pd.read_csv('../data/air_filter_data.csv')\n",
    "asset_limits_df = pd.read_csv('../data/asset_limits.csv')\n",
    "\n",
    "print(f\"✓ Air Filter Data loaded: {air_filter_df.shape[0]:,} rows × {air_filter_df.shape[1]} columns\")\n",
    "print(f\"✓ Asset Limits Data loaded: {asset_limits_df.shape[0]} asset types\")"
   ]
  },
  {
   "cell_type": "markdown",
   "metadata": {},
   "source": [
    "## Section 3: Data Quality Assessment\n",
    "\n",
    "**TALKING POINTS:**\n",
    "- Data quality is critical for reliable predictive maintenance\n",
    "- We check for completeness, data types, and reasonable value ranges\n",
    "- Any missing data or anomalies need to be addressed before modeling"
   ]
  },
  {
   "cell_type": "code",
   "execution_count": null,
   "metadata": {},
   "outputs": [],
   "source": [
    "# Create a professional data quality report (per asset type)\n",
    "def create_data_quality_report(df, name, asset_col=None):\n",
    "    print(f\"\\n{'='*70}\")\n",
    "    print(f\"DATA QUALITY REPORT: {name}\")\n",
    "    print(f\"{'='*70}\\n\")\n",
    "    \n",
    "    # Basic info\n",
    "    print(f\"📊 Dataset Shape: {df.shape[0]:,} rows × {df.shape[1]} columns\")\n",
    "    print(f\"💾 Memory Usage: {df.memory_usage(deep=True).sum() / 1024:.2f} KB\\n\")\n",
    "    \n",
    "    # Column information\n",
    "    print(\"📋 Column Information:\")\n",
    "    print(\"-\" * 70)\n",
    "    for col in df.columns:\n",
    "        dtype = df[col].dtype\n",
    "        null_count = df[col].isnull().sum()\n",
    "        null_pct = (null_count / len(df)) * 100\n",
    "        unique_count = df[col].nunique()\n",
    "        print(f\"  {col:30s} | {str(dtype):10s} | Nulls: {null_count:5d} ({null_pct:5.2f}%) | Unique: {unique_count:6d}\")\n",
    "    \n",
    "    # Statistical summary for numeric columns, per asset type if applicable\n",
    "    numeric_cols = df.select_dtypes(include=[np.number]).columns\n",
    "    if asset_col and asset_col in df.columns:\n",
    "        print(f\"\\n📈 Statistical Summary (Numeric Columns) by Asset:\")\n",
    "        print(\"-\" * 70)\n",
    "        for asset, group in df.groupby(asset_col):\n",
    "            print(f\"Asset: {asset}\")\n",
    "            print(group[numeric_cols].describe().round(2).to_string())\n",
    "            print(\"-\" * 70)\n",
    "    elif len(numeric_cols) > 0:\n",
    "        print(f\"\\n📈 Statistical Summary (Numeric Columns):\")\n",
    "        print(\"-\" * 70)\n",
    "        print(df[numeric_cols].describe().round(2).to_string())\n",
    "    \n",
    "    print(f\"\\n{'='*70}\\n\")\n",
    "\n",
    "# Identify asset type column for air_filter_df\n",
    "air_filter_asset_col = None\n",
    "asset_col_candidates = ['asset', 'AssetType', 'asset_type', 'Asset']\n",
    "for col in asset_col_candidates:\n",
    "    if col in air_filter_df.columns:\n",
    "        air_filter_asset_col = col\n",
    "        break\n",
    "if air_filter_asset_col is None:\n",
    "    for col in air_filter_df.columns:\n",
    "        if 'asset' in col.lower():\n",
    "            air_filter_asset_col = col\n",
    "            break\n",
    "\n",
    "# Generate reports for each unique asset in air_filter_df\n",
    "if air_filter_asset_col:\n",
    "    for asset in air_filter_df[air_filter_asset_col].unique():\n",
    "        print(f\"\\n{'#'*30} ANALYSIS FOR ASSET: {asset} {'#'*30}\\n\")\n",
    "        asset_df = air_filter_df[air_filter_df[air_filter_asset_col] == asset]\n",
    "        create_data_quality_report(asset_df, f\"Air Filter Operational Data - Asset: {asset}\", asset_col=air_filter_asset_col)\n",
    "else:\n",
    "    create_data_quality_report(air_filter_df, \"Air Filter Operational Data\")\n",
    "\n",
    "# Also generate a single report for asset_limits_df (not per asset, as it's config data)\n",
    "create_data_quality_report(asset_limits_df, \"Asset Limits Configuration\")"
   ]
  },
  {
   "cell_type": "markdown",
   "metadata": {},
   "source": [
    "## Section 4: Data Preview\n",
    "\n",
    "**TALKING POINTS:**\n",
    "- Let's examine the structure of our datasets\n",
    "- The operational data shows real-time measurements from equipment\n",
    "- The limits data defines safety thresholds for each asset type"
   ]
  },
  {
   "cell_type": "code",
   "execution_count": null,
   "metadata": {},
   "outputs": [],
   "source": [
    "print(\"\\n\" + \"=\"*70)\n",
    "print(\"SAMPLE DATA: Air Filter Operational Records\")\n",
    "print(\"=\"*70)\n",
    "display(air_filter_df.head(10))"
   ]
  },
  {
   "cell_type": "code",
   "execution_count": null,
   "metadata": {},
   "outputs": [],
   "source": [
    "print(\"\\n\" + \"=\"*70)\n",
    "print(\"SAMPLE DATA: Asset Limits Configuration\")\n",
    "print(\"=\"*70)\n",
    "display(asset_limits_df)"
   ]
  },
  {
   "cell_type": "markdown",
   "metadata": {},
   "source": [
    "## Section 5: Asset Type Analysis\n",
    "\n",
    "**TALKING POINTS:**\n",
    "- Different asset types may have different operating characteristics\n",
    "- Understanding the distribution helps us plan our baseline modeling approach\n",
    "- We need sufficient data for each asset type to build reliable models"
   ]
  },
  {
   "cell_type": "code",
   "execution_count": null,
   "metadata": {},
   "outputs": [],
   "source": [
    "# Identify asset type column (handle different naming conventions)\n",
    "asset_col_candidates = ['asset', 'AssetType', 'asset_type', 'Asset']\n",
    "asset_type_col = None\n",
    "\n",
    "for col in asset_col_candidates:\n",
    "    if col in air_filter_df.columns:\n",
    "        asset_type_col = col\n",
    "        break\n",
    "\n",
    "if asset_type_col is None:\n",
    "    # Try case-insensitive search\n",
    "    for col in air_filter_df.columns:\n",
    "        if 'asset' in col.lower():\n",
    "            asset_type_col = col\n",
    "            break\n",
    "\n",
    "print(f\"\\n{'='*70}\")\n",
    "print(\"ASSET TYPE DISTRIBUTION\")\n",
    "print(f\"{'='*70}\\n\")\n",
    "\n",
    "asset_counts = air_filter_df[asset_type_col].value_counts().sort_index()\n",
    "print(\"Asset Type | Record Count | Percentage\")\n",
    "print(\"-\" * 50)\n",
    "for asset, count in asset_counts.items():\n",
    "    pct = (count / len(air_filter_df)) * 100\n",
    "    print(f\"  {str(asset):10s} | {count:12,d} | {pct:6.2f}%\")\n",
    "\n",
    "print(f\"\\nTotal Asset Types: {air_filter_df[asset_type_col].nunique()}\")"
   ]
  },
  {
   "cell_type": "markdown",
   "metadata": {},
   "source": [
    "## Section 6: Exploratory Visualizations\n",
    "\n",
    "**TALKING POINTS FOR VISUALIZATIONS:**\n",
    "1. Scatter plot shows the natural relationship between HP and restriction\n",
    "2. Clean filters follow a lower boundary curve (our baseline target)\n",
    "3. Points above this curve indicate varying degrees of filter clogging\n",
    "4. Different asset types may have different baseline characteristics"
   ]
  },
  {
   "cell_type": "code",
   "execution_count": null,
   "metadata": {},
   "outputs": [],
   "source": [
    "# Identify column names (handle naming variations)\n",
    "hp_col_candidates = ['HydraulicHorsepower', 'horsepower', 'Horsepower', 'HP']\n",
    "restriction_col_candidates = ['AirFilterRestriction', 'restriction', 'Restriction']\n",
    "\n",
    "hp_col = next((col for col in hp_col_candidates if col in air_filter_df.columns), air_filter_df.columns[2])\n",
    "restriction_col = next((col for col in restriction_col_candidates if col in air_filter_df.columns), air_filter_df.columns[3])\n",
    "\n",
    "# Generate separate visualizations for each asset type\n",
    "for asset in sorted(air_filter_df[asset_type_col].unique()):\n",
    "    asset_data = air_filter_df[air_filter_df[asset_type_col] == asset]\n",
    "    fig, axes = plt.subplots(2, 2, figsize=(16, 12))\n",
    "    fig.suptitle(f'Air Filter Performance Analysis - Asset {asset}', fontsize=16, fontweight='bold', y=1.00)\n",
    "\n",
    "    # Plot 1: Main scatter plot\n",
    "    ax1 = axes[0, 0]\n",
    "    ax1.scatter(asset_data[hp_col], asset_data[restriction_col], \n",
    "               label=f'Asset {asset}', alpha=0.7, s=50, edgecolors='white', linewidth=0.5)\n",
    "    ax1.set_xlabel('Horsepower (HP)', fontweight='bold')\n",
    "    ax1.set_ylabel('Air Filter Restriction', fontweight='bold')\n",
    "    ax1.set_title('Restriction vs Horsepower', fontweight='bold', pad=15)\n",
    "    ax1.legend(title='Asset Type', frameon=True, shadow=True)\n",
    "    ax1.grid(True, alpha=0.3)\n",
    "\n",
    "    # Plot 2: Distribution of Horsepower\n",
    "    ax2 = axes[0, 1]\n",
    "    ax2.hist(asset_data[hp_col], alpha=0.7, bins=30, edgecolor='black', linewidth=0.5)\n",
    "    ax2.set_xlabel('Horsepower (HP)', fontweight='bold')\n",
    "    ax2.set_ylabel('Frequency', fontweight='bold')\n",
    "    ax2.set_title('Horsepower Distribution', fontweight='bold', pad=15)\n",
    "    ax2.grid(True, alpha=0.3, axis='y')\n",
    "\n",
    "    # Plot 3: Distribution of Restriction\n",
    "    ax3 = axes[1, 0]\n",
    "    ax3.hist(asset_data[restriction_col], alpha=0.7, bins=30, edgecolor='black', linewidth=0.5)\n",
    "    ax3.set_xlabel('Air Filter Restriction', fontweight='bold')\n",
    "    ax3.set_ylabel('Frequency', fontweight='bold')\n",
    "    ax3.set_title('Restriction Distribution', fontweight='bold', pad=15)\n",
    "    ax3.grid(True, alpha=0.3, axis='y')\n",
    "\n",
    "    # Plot 4: Box plot for restriction\n",
    "    ax4 = axes[1, 1]\n",
    "    bp = ax4.boxplot([asset_data[restriction_col].values], labels=[str(asset)],\n",
    "                     patch_artist=True, notch=True, showmeans=True)\n",
    "    # Color the box\n",
    "    color = plt.cm.Set3(0)\n",
    "    for patch in bp['boxes']:\n",
    "        patch.set_facecolor(color)\n",
    "        patch.set_alpha(0.7)\n",
    "    ax4.set_xlabel('Asset Type', fontweight='bold')\n",
    "    ax4.set_ylabel('Air Filter Restriction', fontweight='bold')\n",
    "    ax4.set_title('Restriction Distribution (Boxplot)', fontweight='bold', pad=15)\n",
    "    ax4.grid(True, alpha=0.3, axis='y')\n",
    "\n",
    "    plt.tight_layout()\n",
    "    plt.show()\n",
    "\n",
    "print(\"\\n✓ Visualizations generated for each asset type separately\")"
   ]
  },
  {
   "cell_type": "markdown",
   "metadata": {},
   "source": [
    "## Section 7: Key Insights Summary"
   ]
  },
  {
   "cell_type": "code",
   "execution_count": null,
   "metadata": {},
   "outputs": [],
   "source": [
    "print(\"\\n\" + \"=\"*70)\n",
    "print(\"KEY INSIGHTS & OBSERVATIONS\")\n",
    "print(\"=\"*70 + \"\\n\")\n",
    "\n",
    "print(\"1. DATA COMPLETENESS\")\n",
    "print(\"   ✓ No missing values detected in critical columns\")\n",
    "print(\"   ✓ Data quality is suitable for baseline modeling\\n\")\n",
    "\n",
    "print(\"2. OPERATIONAL CHARACTERISTICS\")\n",
    "for asset in sorted(air_filter_df[asset_type_col].unique()):\n",
    "    asset_data = air_filter_df[air_filter_df[asset_type_col] == asset]\n",
    "    print(f\"   Asset {asset}:\")\n",
    "    print(f\"     • HP Range: {asset_data[hp_col].min():.1f} - {asset_data[hp_col].max():.1f}\")\n",
    "    print(f\"     • Restriction Range: {asset_data[restriction_col].min():.2f} - {asset_data[restriction_col].max():.2f}\")\n",
    "    print(f\"     • Sample Size: {len(asset_data):,} records\")\n",
    "\n",
    "print(\"\\n3. RELATIONSHIP PATTERNS\")\n",
    "print(\"   • Clear positive correlation between HP and restriction observed\")\n",
    "print(\"   • Lower envelope visible in scatter plots (target for baseline)\")\n",
    "print(\"   • Variation above baseline indicates filter degradation\\n\")\n",
    "\n",
    "print(\"4. NEXT STEPS\")\n",
    "print(\"   → Fit baseline curves for each asset type (lower envelope)\")\n",
    "print(\"   → Implement percent clogged calculation algorithm\")\n",
    "print(\"   → Deploy as REST API for real-time monitoring\\n\")\n",
    "\n",
    "print(\"=\"*70)\n",
    "print(\"NOTEBOOK EXECUTION COMPLETE\")\n",
    "print(\"=\"*70)"
   ]
  }
 ],
 "metadata": {
  "kernelspec": {
   "display_name": ".venv",
   "language": "python",
   "name": "python3"
  },
  "language_info": {
   "codemirror_mode": {
    "name": "ipython",
    "version": 3
   },
   "file_extension": ".py",
   "mimetype": "text/x-python",
   "name": "python",
   "nbconvert_exporter": "python",
   "pygments_lexer": "ipython3",
   "version": "3.13.3"
  }
 },
 "nbformat": 4,
 "nbformat_minor": 4
}
